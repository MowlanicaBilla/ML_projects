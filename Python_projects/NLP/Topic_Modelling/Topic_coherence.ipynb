{
 "cells": [
  {
   "cell_type": "code",
   "execution_count": 3,
   "metadata": {},
   "outputs": [],
   "source": [
    "from nltk.collocations import BigramAssocMeasures, BigramCollocationFinder\n",
    "\n",
    "# Calculate PMI for bigrams in a list of words\n",
    "words = [\"topic\", \"modeling\", \"is\", \"a\", \"machine\", \"learning\", \"technique\", \"for\", \"extracting\", \"topics\"]\n",
    "finder = BigramCollocationFinder.from_words(words)\n",
    "pmi_scores = finder.score_ngrams(BigramAssocMeasures.pmi)"
   ]
  },
  {
   "cell_type": "code",
   "execution_count": 11,
   "metadata": {},
   "outputs": [
    {
     "data": {
      "text/plain": [
       "[('a', 'machine'),\n",
       " ('extracting', 'topics'),\n",
       " ('for', 'extracting'),\n",
       " ('is', 'a'),\n",
       " ('learning', 'technique'),\n",
       " ('machine', 'learning'),\n",
       " ('modeling', 'is'),\n",
       " ('technique', 'for'),\n",
       " ('topic', 'modeling')]"
      ]
     },
     "execution_count": 11,
     "metadata": {},
     "output_type": "execute_result"
    }
   ],
   "source": [
    "finder.nbest(BigramAssocMeasures.pmi, 10)"
   ]
  },
  {
   "cell_type": "code",
   "execution_count": 8,
   "metadata": {},
   "outputs": [
    {
     "data": {
      "text/plain": [
       "<nltk.collocations.BigramCollocationFinder at 0x16db77c90>"
      ]
     },
     "execution_count": 8,
     "metadata": {},
     "output_type": "execute_result"
    }
   ],
   "source": [
    "finder.(words)"
   ]
  },
  {
   "cell_type": "code",
   "execution_count": null,
   "metadata": {},
   "outputs": [],
   "source": []
  }
 ],
 "metadata": {
  "kernelspec": {
   "display_name": "topic_modeling2",
   "language": "python",
   "name": "python3"
  },
  "language_info": {
   "codemirror_mode": {
    "name": "ipython",
    "version": 3
   },
   "file_extension": ".py",
   "mimetype": "text/x-python",
   "name": "python",
   "nbconvert_exporter": "python",
   "pygments_lexer": "ipython3",
   "version": "3.11.8"
  }
 },
 "nbformat": 4,
 "nbformat_minor": 2
}
